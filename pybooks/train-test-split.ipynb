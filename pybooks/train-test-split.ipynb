{
 "cells": [
  {
   "cell_type": "code",
   "execution_count": 1,
   "id": "cf4e7310",
   "metadata": {},
   "outputs": [],
   "source": [
    "import os\n",
    "from pathlib import Path\n",
    "from PIL import Image, ImageOps\n",
    "from sklearn.model_selection import train_test_split"
   ]
  },
  {
   "cell_type": "code",
   "execution_count": 13,
   "id": "0434890d",
   "metadata": {},
   "outputs": [],
   "source": [
    "images_folder = '../task/train_dataset/'\n",
    "masks_folder = '../task/train_dataset_masks/'\n",
    "\n",
    "files = sorted([x.name for x in Path('../datasets/0-last-broken/last_viewer_broken_images').glob('*.png')], key=lambda x: int(x.split('.')[0]))"
   ]
  },
  {
   "cell_type": "code",
   "execution_count": 6,
   "id": "cba528a5",
   "metadata": {},
   "outputs": [],
   "source": [
    "def imread(folder, name):\n",
    "    return Image.open(f\"{folder}/{name}\")\n",
    "\n",
    "def overlay(image, mask):\n",
    "    return Image.composite(image, Image.new('RGB', image.size, (255,0,0)), ImageOps.invert(mask.convert('L')))"
   ]
  },
  {
   "cell_type": "code",
   "execution_count": 7,
   "id": "9cb51226",
   "metadata": {},
   "outputs": [],
   "source": [
    "seed = 1024\n",
    "train_indices, val_indices = train_test_split(files, test_size=.2, random_state=seed)"
   ]
  },
  {
   "cell_type": "code",
   "execution_count": 14,
   "id": "6e18525f",
   "metadata": {
    "scrolled": true
   },
   "outputs": [],
   "source": [
    "import shutil\n",
    "\n",
    "target_folder = '../datasets/0-last-broken/train'\n",
    "os.makedirs(f\"{target_folder}/images\", exist_ok=True)\n",
    "os.makedirs(f\"{target_folder}/masks\", exist_ok=True)\n",
    "for a in train_indices:\n",
    "    shutil.copyfile(f\"{images_folder}/{a}\", f\"{target_folder}/images/{a}\")\n",
    "    shutil.copyfile(f\"{masks_folder}/{a}\", f\"{target_folder}/masks/{a}\")\n",
    "\n",
    "target_folder = '../datasets/0-last-broken/valid'\n",
    "os.makedirs(f\"{target_folder}/images\", exist_ok=True)\n",
    "os.makedirs(f\"{target_folder}/masks\", exist_ok=True)\n",
    "\n",
    "for a in val_indices:\n",
    "    try:\n",
    "        shutil.copyfile(f\"{images_folder}/{a}\", f\"{target_folder}/images/{a}\")\n",
    "        shutil.copyfile(f\"{masks_folder}/{a}\", f\"{target_folder}/masks/{a}\")\n",
    "    except:\n",
    "        print(a)"
   ]
  },
  {
   "cell_type": "code",
   "execution_count": null,
   "id": "ebb8be22",
   "metadata": {},
   "outputs": [],
   "source": []
  },
  {
   "cell_type": "code",
   "execution_count": 46,
   "id": "b49c7e8a",
   "metadata": {},
   "outputs": [
    {
     "data": {
      "text/plain": [
       "True"
      ]
     },
     "execution_count": 46,
     "metadata": {},
     "output_type": "execute_result"
    }
   ],
   "source": [
    "set(os.listdir('../datasets/train-last/images')).intersection(set(os.listdir('../datasets/train-last/masks'))) == set(os.listdir('../datasets/train-last/images')) == set(os.listdir('../datasets/train-last/masks'))"
   ]
  },
  {
   "cell_type": "code",
   "execution_count": 48,
   "id": "ea758fb7",
   "metadata": {},
   "outputs": [
    {
     "data": {
      "text/plain": [
       "True"
      ]
     },
     "execution_count": 48,
     "metadata": {},
     "output_type": "execute_result"
    }
   ],
   "source": [
    "set(os.listdir('../datasets/valid-last/images')).intersection(set(os.listdir('../datasets/valid-last/masks'))) == set(os.listdir('../datasets/valid-last/images')) == set(os.listdir('../datasets/valid-last/masks'))"
   ]
  }
 ],
 "metadata": {
  "kernelspec": {
   "display_name": "Python 3 (ipykernel)",
   "language": "python",
   "name": "python3"
  },
  "language_info": {
   "codemirror_mode": {
    "name": "ipython",
    "version": 3
   },
   "file_extension": ".py",
   "mimetype": "text/x-python",
   "name": "python",
   "nbconvert_exporter": "python",
   "pygments_lexer": "ipython3",
   "version": "3.9.13"
  }
 },
 "nbformat": 4,
 "nbformat_minor": 5
}
